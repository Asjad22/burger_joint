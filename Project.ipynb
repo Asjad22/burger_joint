{
 "cells": [
  {
   "cell_type": "markdown",
   "id": "5917bae5",
   "metadata": {},
   "source": [
    "### WARNING:\n",
    "#### This notebook could be very slow without a GPU.\n",
    "##### Note: I've used Nvidia GeForce 1050 ti 4gb."
   ]
  },
  {
   "cell_type": "code",
   "execution_count": 1,
   "id": "d3b9a565",
   "metadata": {},
   "outputs": [],
   "source": [
    "import sys\n",
    "\n",
    "assert sys.version_info >= (3, 7)"
   ]
  },
  {
   "cell_type": "code",
   "execution_count": 2,
   "id": "4fe77bcd",
   "metadata": {},
   "outputs": [],
   "source": [
    "import tensorflow as tf\n",
    "\n",
    "assert tf.__version__ >= \"2.8.0\""
   ]
  },
  {
   "cell_type": "code",
   "execution_count": 3,
   "id": "c27f21c1",
   "metadata": {},
   "outputs": [],
   "source": [
    "import pandas as pd\n",
    "import numpy as np\n",
    "\n",
    "np.random.seed(42)"
   ]
  },
  {
   "cell_type": "code",
   "execution_count": 4,
   "id": "81b4c104",
   "metadata": {},
   "outputs": [],
   "source": [
    "from pathlib import Path\n",
    "\n",
    "IMAGES_PATH = Path()\n",
    "IMAGES_PATH.mkdir(parents=True, exist_ok=True)\n",
    "\n",
    "def save_fig(fig_id, tight_layout=True, fig_extension=\"png\", resolution=300):\n",
    "    path = IMAGES_PATH / f\"{fig_id}.{fig_extension}\"\n",
    "    if tight_layout:\n",
    "        plt.tight_layout()\n",
    "    plt.savefig(path, format=fig_extension, dpi=resolution)"
   ]
  },
  {
   "cell_type": "code",
   "execution_count": 5,
   "id": "06a6b04e",
   "metadata": {},
   "outputs": [],
   "source": [
    "import matplotlib.pyplot as plt\n",
    "\n",
    "plt.rc('font', size=14)\n",
    "plt.rc('axes', labelsize=14, titlesize=14)\n",
    "plt.rc('legend', fontsize=14)\n",
    "plt.rc('xtick', labelsize=10)\n",
    "plt.rc('ytick', labelsize=10)"
   ]
  },
  {
   "cell_type": "code",
   "execution_count": 6,
   "id": "6471781b",
   "metadata": {},
   "outputs": [
    {
     "name": "stderr",
     "output_type": "stream",
     "text": [
      "2022-10-25 14:17:59.856855: I tensorflow/stream_executor/cuda/cuda_gpu_executor.cc:975] successful NUMA node read from SysFS had negative value (-1), but there must be at least one NUMA node, so returning NUMA node zero\n",
      "2022-10-25 14:17:59.894916: I tensorflow/stream_executor/cuda/cuda_gpu_executor.cc:975] successful NUMA node read from SysFS had negative value (-1), but there must be at least one NUMA node, so returning NUMA node zero\n",
      "2022-10-25 14:17:59.895141: I tensorflow/stream_executor/cuda/cuda_gpu_executor.cc:975] successful NUMA node read from SysFS had negative value (-1), but there must be at least one NUMA node, so returning NUMA node zero\n"
     ]
    }
   ],
   "source": [
    "if not tf.config.list_physical_devices('GPU'):\n",
    "    print(\"No GPU was detected. Neural nets can be very slow without a GPU.\")\n",
    "    if \"google.colab\" in sys.modules:\n",
    "        print(\"Go to Runtime > Change runtime and select a GPU hardware \"\n",
    "              \"accelerator.\")\n",
    "    if \"kaggle_secrets\" in sys.modules:\n",
    "        print(\"Go to Settings > Accelerator and select GPU.\")"
   ]
  },
  {
   "cell_type": "code",
   "execution_count": 7,
   "id": "7fa2b937",
   "metadata": {},
   "outputs": [
    {
     "name": "stdout",
     "output_type": "stream",
     "text": [
      "Dataset has been loaded\n"
     ]
    }
   ],
   "source": [
    "try:\n",
    "    df = pd.read_csv('/home/asjad/Desktop/mynewtable.csv',\n",
    "                         parse_dates=[\"tx_datetime\"])\n",
    "    df = df.set_index(\"tx_datetime\")\n",
    "    print(\"Dataset has been loaded\")\n",
    "    \n",
    "except:\n",
    "    print('Unable to load dataset')"
   ]
  },
  {
   "cell_type": "code",
   "execution_count": 8,
   "id": "2441cdd9",
   "metadata": {},
   "outputs": [
    {
     "data": {
      "text/html": [
       "<div>\n",
       "<style scoped>\n",
       "    .dataframe tbody tr th:only-of-type {\n",
       "        vertical-align: middle;\n",
       "    }\n",
       "\n",
       "    .dataframe tbody tr th {\n",
       "        vertical-align: top;\n",
       "    }\n",
       "\n",
       "    .dataframe thead th {\n",
       "        text-align: right;\n",
       "    }\n",
       "</style>\n",
       "<table border=\"1\" class=\"dataframe\">\n",
       "  <thead>\n",
       "    <tr style=\"text-align: right;\">\n",
       "      <th></th>\n",
       "      <th>customer_id</th>\n",
       "      <th>tx_amount</th>\n",
       "      <th>terminal_id</th>\n",
       "      <th>tx_type</th>\n",
       "    </tr>\n",
       "    <tr>\n",
       "      <th>tx_datetime</th>\n",
       "      <th></th>\n",
       "      <th></th>\n",
       "      <th></th>\n",
       "      <th></th>\n",
       "    </tr>\n",
       "  </thead>\n",
       "  <tbody>\n",
       "    <tr>\n",
       "      <th>2018-04-01 04:31:00+05:00</th>\n",
       "      <td>28</td>\n",
       "      <td>84.230003</td>\n",
       "      <td>17</td>\n",
       "      <td>0</td>\n",
       "    </tr>\n",
       "    <tr>\n",
       "      <th>2018-04-01 17:23:31+05:00</th>\n",
       "      <td>296</td>\n",
       "      <td>120.649994</td>\n",
       "      <td>15</td>\n",
       "      <td>3</td>\n",
       "    </tr>\n",
       "    <tr>\n",
       "      <th>2018-04-01 05:39:28+05:00</th>\n",
       "      <td>188</td>\n",
       "      <td>53.290001</td>\n",
       "      <td>16</td>\n",
       "      <td>0</td>\n",
       "    </tr>\n",
       "    <tr>\n",
       "      <th>2018-04-01 06:57:01+05:00</th>\n",
       "      <td>188</td>\n",
       "      <td>29.950001</td>\n",
       "      <td>16</td>\n",
       "      <td>0</td>\n",
       "    </tr>\n",
       "    <tr>\n",
       "      <th>2018-04-01 07:24:08+05:00</th>\n",
       "      <td>188</td>\n",
       "      <td>10.310000</td>\n",
       "      <td>16</td>\n",
       "      <td>0</td>\n",
       "    </tr>\n",
       "    <tr>\n",
       "      <th>...</th>\n",
       "      <td>...</td>\n",
       "      <td>...</td>\n",
       "      <td>...</td>\n",
       "      <td>...</td>\n",
       "    </tr>\n",
       "    <tr>\n",
       "      <th>2018-07-29 13:26:25+05:00</th>\n",
       "      <td>467</td>\n",
       "      <td>78.720001</td>\n",
       "      <td>17</td>\n",
       "      <td>2</td>\n",
       "    </tr>\n",
       "    <tr>\n",
       "      <th>2018-07-30 08:52:24+05:00</th>\n",
       "      <td>467</td>\n",
       "      <td>47.520000</td>\n",
       "      <td>16</td>\n",
       "      <td>0</td>\n",
       "    </tr>\n",
       "    <tr>\n",
       "      <th>2018-07-30 16:53:06+05:00</th>\n",
       "      <td>467</td>\n",
       "      <td>125.110001</td>\n",
       "      <td>18</td>\n",
       "      <td>3</td>\n",
       "    </tr>\n",
       "    <tr>\n",
       "      <th>2018-07-31 08:40:06+05:00</th>\n",
       "      <td>467</td>\n",
       "      <td>185.113356</td>\n",
       "      <td>16</td>\n",
       "      <td>0</td>\n",
       "    </tr>\n",
       "    <tr>\n",
       "      <th>2018-07-31 17:05:06+05:00</th>\n",
       "      <td>467</td>\n",
       "      <td>232.251549</td>\n",
       "      <td>18</td>\n",
       "      <td>2</td>\n",
       "    </tr>\n",
       "  </tbody>\n",
       "</table>\n",
       "<p>4745 rows × 4 columns</p>\n",
       "</div>"
      ],
      "text/plain": [
       "                           customer_id   tx_amount  terminal_id  tx_type\n",
       "tx_datetime                                                             \n",
       "2018-04-01 04:31:00+05:00           28   84.230003           17        0\n",
       "2018-04-01 17:23:31+05:00          296  120.649994           15        3\n",
       "2018-04-01 05:39:28+05:00          188   53.290001           16        0\n",
       "2018-04-01 06:57:01+05:00          188   29.950001           16        0\n",
       "2018-04-01 07:24:08+05:00          188   10.310000           16        0\n",
       "...                                ...         ...          ...      ...\n",
       "2018-07-29 13:26:25+05:00          467   78.720001           17        2\n",
       "2018-07-30 08:52:24+05:00          467   47.520000           16        0\n",
       "2018-07-30 16:53:06+05:00          467  125.110001           18        3\n",
       "2018-07-31 08:40:06+05:00          467  185.113356           16        0\n",
       "2018-07-31 17:05:06+05:00          467  232.251549           18        2\n",
       "\n",
       "[4745 rows x 4 columns]"
      ]
     },
     "execution_count": 8,
     "metadata": {},
     "output_type": "execute_result"
    }
   ],
   "source": [
    "df"
   ]
  },
  {
   "cell_type": "code",
   "execution_count": 9,
   "id": "88446fca",
   "metadata": {},
   "outputs": [
    {
     "data": {
      "text/plain": [
       "2    3287\n",
       "0     886\n",
       "3     366\n",
       "1     206\n",
       "Name: tx_type, dtype: int64"
      ]
     },
     "execution_count": 9,
     "metadata": {},
     "output_type": "execute_result"
    }
   ],
   "source": [
    "df['tx_type'].value_counts()"
   ]
  },
  {
   "cell_type": "markdown",
   "id": "59bc5fad",
   "metadata": {},
   "source": [
    "#### Assuming 4 different transactions type:\n",
    "\n",
    "#### 0 = fuel,\n",
    "\n",
    "#### 1 = pharm,\n",
    "\n",
    "#### 2 = food, \n",
    "\n",
    "#### 3 = superstore."
   ]
  },
  {
   "cell_type": "code",
   "execution_count": null,
   "id": "6ae2ce71",
   "metadata": {},
   "outputs": [],
   "source": []
  },
  {
   "cell_type": "markdown",
   "id": "47672997",
   "metadata": {},
   "source": [
    "\n"
   ]
  },
  {
   "cell_type": "code",
   "execution_count": 10,
   "id": "79e4a383",
   "metadata": {},
   "outputs": [
    {
     "data": {
      "text/plain": [
       "(4745, 4)"
      ]
     },
     "execution_count": 10,
     "metadata": {},
     "output_type": "execute_result"
    }
   ],
   "source": [
    "df.shape"
   ]
  },
  {
   "cell_type": "code",
   "execution_count": 11,
   "id": "a6b64895",
   "metadata": {},
   "outputs": [
    {
     "data": {
      "text/html": [
       "<div>\n",
       "<style scoped>\n",
       "    .dataframe tbody tr th:only-of-type {\n",
       "        vertical-align: middle;\n",
       "    }\n",
       "\n",
       "    .dataframe tbody tr th {\n",
       "        vertical-align: top;\n",
       "    }\n",
       "\n",
       "    .dataframe thead th {\n",
       "        text-align: right;\n",
       "    }\n",
       "</style>\n",
       "<table border=\"1\" class=\"dataframe\">\n",
       "  <thead>\n",
       "    <tr style=\"text-align: right;\">\n",
       "      <th></th>\n",
       "      <th>customer_id</th>\n",
       "      <th>tx_amount</th>\n",
       "      <th>terminal_id</th>\n",
       "      <th>tx_type</th>\n",
       "    </tr>\n",
       "  </thead>\n",
       "  <tbody>\n",
       "    <tr>\n",
       "      <th>count</th>\n",
       "      <td>4745.000000</td>\n",
       "      <td>4745.000000</td>\n",
       "      <td>4745.000000</td>\n",
       "      <td>4745.000000</td>\n",
       "    </tr>\n",
       "    <tr>\n",
       "      <th>mean</th>\n",
       "      <td>263.093151</td>\n",
       "      <td>47.428182</td>\n",
       "      <td>10.782086</td>\n",
       "      <td>1.660274</td>\n",
       "    </tr>\n",
       "    <tr>\n",
       "      <th>std</th>\n",
       "      <td>147.278627</td>\n",
       "      <td>43.331870</td>\n",
       "      <td>5.451547</td>\n",
       "      <td>0.867286</td>\n",
       "    </tr>\n",
       "    <tr>\n",
       "      <th>min</th>\n",
       "      <td>15.000000</td>\n",
       "      <td>0.010000</td>\n",
       "      <td>1.000000</td>\n",
       "      <td>0.000000</td>\n",
       "    </tr>\n",
       "    <tr>\n",
       "      <th>25%</th>\n",
       "      <td>132.000000</td>\n",
       "      <td>18.240000</td>\n",
       "      <td>5.000000</td>\n",
       "      <td>2.000000</td>\n",
       "    </tr>\n",
       "    <tr>\n",
       "      <th>50%</th>\n",
       "      <td>235.000000</td>\n",
       "      <td>39.220001</td>\n",
       "      <td>12.000000</td>\n",
       "      <td>2.000000</td>\n",
       "    </tr>\n",
       "    <tr>\n",
       "      <th>75%</th>\n",
       "      <td>405.000000</td>\n",
       "      <td>63.709999</td>\n",
       "      <td>16.000000</td>\n",
       "      <td>2.000000</td>\n",
       "    </tr>\n",
       "    <tr>\n",
       "      <th>max</th>\n",
       "      <td>498.000000</td>\n",
       "      <td>597.400024</td>\n",
       "      <td>18.000000</td>\n",
       "      <td>3.000000</td>\n",
       "    </tr>\n",
       "  </tbody>\n",
       "</table>\n",
       "</div>"
      ],
      "text/plain": [
       "       customer_id    tx_amount  terminal_id      tx_type\n",
       "count  4745.000000  4745.000000  4745.000000  4745.000000\n",
       "mean    263.093151    47.428182    10.782086     1.660274\n",
       "std     147.278627    43.331870     5.451547     0.867286\n",
       "min      15.000000     0.010000     1.000000     0.000000\n",
       "25%     132.000000    18.240000     5.000000     2.000000\n",
       "50%     235.000000    39.220001    12.000000     2.000000\n",
       "75%     405.000000    63.709999    16.000000     2.000000\n",
       "max     498.000000   597.400024    18.000000     3.000000"
      ]
     },
     "execution_count": 11,
     "metadata": {},
     "output_type": "execute_result"
    }
   ],
   "source": [
    "df.describe()"
   ]
  },
  {
   "cell_type": "markdown",
   "id": "916e9ff2",
   "metadata": {},
   "source": [
    "101 is the lowest spending and 9992 is the highest spending\n"
   ]
  },
  {
   "cell_type": "code",
   "execution_count": 13,
   "id": "8f472e3f",
   "metadata": {},
   "outputs": [
    {
     "data": {
      "image/png": "[encoded data removed]",
      "text/plain": [
       "<Figure size 432x288 with 1 Axes>"
      ]
     },
     "metadata": {
      "needs_background": "light"
     },
     "output_type": "display_data"
    }
   ],
   "source": [
    "import matplotlib.pyplot as plt\n",
    "\n",
    "df.plot(kind=\"line\", x=\"tx_type\", y=\"customer_id\", alpha=0.8)\n",
    "save_fig(\"transaction_type against cust_id\")"
   ]
  },
  {
   "cell_type": "code",
   "execution_count": 14,
   "id": "4285a8fa",
   "metadata": {},
   "outputs": [
    {
     "name": "stdout",
     "output_type": "stream",
     "text": [
      "lowest transaction_amount date_time: 1972-03-29 23:17:45\n",
      "highest transaction_amount date_time: 2002-09-02 19:38:48\n"
     ]
    }
   ],
   "source": [
    "from datetime import datetime\n",
    "print(\"lowest transaction_amount date_time:\", datetime.fromtimestamp(70741065))\n",
    "print(\"highest transaction_amount date_time:\", datetime.fromtimestamp(1030973928))"
   ]
  },
  {
   "cell_type": "markdown",
   "id": "30813d4e",
   "metadata": {},
   "source": [
    "let's see the trend from the begining to the last obs we have"
   ]
  },
  {
   "cell_type": "code",
   "execution_count": null,
   "id": "3ef573e0",
   "metadata": {},
   "outputs": [],
   "source": [
    "df['96256':'1661580095'].plot(grid=True, marker=',', figsize=(8, 3.5), alpha=0.8)\n",
    "save_fig('transaction_amount, cust_id with time')\n",
    "plt.show()"
   ]
  },
  {
   "cell_type": "markdown",
   "id": "5194db20",
   "metadata": {},
   "source": [
    "let's check if after 1972-03-29 23:17:45 any low amount transaction occured till the end 2022-08-27 11:01:35\n"
   ]
  },
  {
   "cell_type": "code",
   "execution_count": null,
   "id": "ff626069",
   "metadata": {},
   "outputs": [],
   "source": [
    "df['70741065':'1661580095'].plot(grid=True, marker=',', figsize=(8, 3.5),\n",
    "                                  alpha=0.8)\n",
    "plt.show()"
   ]
  },
  {
   "cell_type": "markdown",
   "id": "04322ca6",
   "metadata": {},
   "source": [
    "#### There's no such events that shows the transaction amount decreased below 101, after 1972-03-29 23:17:45 till 2022-08-27 11:01:35\n"
   ]
  },
  {
   "cell_type": "code",
   "execution_count": null,
   "id": "8f9d4c0f",
   "metadata": {},
   "outputs": [],
   "source": [
    "#print(datetime.fromtimestamp(1260738756))\n",
    "#print(datetime.fromtimestamp(1048305858))\n",
    "print(datetime.fromtimestamp(1661580095))"
   ]
  },
  {
   "cell_type": "markdown",
   "id": "45158329",
   "metadata": {},
   "source": [
    "#### Hence: The minimum transaction amount is 101, held on 1972-03-29 23:17:45 by cust_id: 9042"
   ]
  },
  {
   "cell_type": "markdown",
   "id": "ccd3a36a",
   "metadata": {},
   "source": [
    "#### And the maximum transaction amount is 4998, held on 2002-09-02 19:38:48. by cust_id: 8646"
   ]
  },
  {
   "cell_type": "code",
   "execution_count": null,
   "id": "a5190636",
   "metadata": {},
   "outputs": [],
   "source": [
    "# Checking the daytype on which minimum transactions occured\n",
    "\n",
    "list(df.loc[\"70741065\"][\"day_type\"])"
   ]
  },
  {
   "cell_type": "code",
   "execution_count": null,
   "id": "d9b17656",
   "metadata": {
    "scrolled": true
   },
   "outputs": [],
   "source": [
    "# Checking the daytype on which maximum transactions occured\n",
    "\n",
    "list(df.loc[\"1661580095\"][\"day_type\"])"
   ]
  },
  {
   "cell_type": "markdown",
   "id": "7deb3ed1",
   "metadata": {},
   "source": [
    "####  'w' describe the weekday(mon-fri), day_type, therefore we can say that both the lowest and the highest transactions occured on weekend!!"
   ]
  },
  {
   "cell_type": "code",
   "execution_count": 15,
   "id": "ea4c35b7",
   "metadata": {},
   "outputs": [
    {
     "data": {
      "text/html": [
       "<div>\n",
       "<style scoped>\n",
       "    .dataframe tbody tr th:only-of-type {\n",
       "        vertical-align: middle;\n",
       "    }\n",
       "\n",
       "    .dataframe tbody tr th {\n",
       "        vertical-align: top;\n",
       "    }\n",
       "\n",
       "    .dataframe thead th {\n",
       "        text-align: right;\n",
       "    }\n",
       "</style>\n",
       "<table border=\"1\" class=\"dataframe\">\n",
       "  <thead>\n",
       "    <tr style=\"text-align: right;\">\n",
       "      <th></th>\n",
       "      <th>customer_id</th>\n",
       "      <th>tx_amount</th>\n",
       "    </tr>\n",
       "    <tr>\n",
       "      <th>tx_datetime</th>\n",
       "      <th></th>\n",
       "      <th></th>\n",
       "    </tr>\n",
       "  </thead>\n",
       "  <tbody>\n",
       "    <tr>\n",
       "      <th>2018-04-01 04:31:00+05:00</th>\n",
       "      <td>28</td>\n",
       "      <td>84.230003</td>\n",
       "    </tr>\n",
       "    <tr>\n",
       "      <th>2018-04-01 17:23:31+05:00</th>\n",
       "      <td>296</td>\n",
       "      <td>120.649994</td>\n",
       "    </tr>\n",
       "    <tr>\n",
       "      <th>2018-04-01 05:39:28+05:00</th>\n",
       "      <td>188</td>\n",
       "      <td>53.290001</td>\n",
       "    </tr>\n",
       "    <tr>\n",
       "      <th>2018-04-01 06:57:01+05:00</th>\n",
       "      <td>188</td>\n",
       "      <td>29.950001</td>\n",
       "    </tr>\n",
       "    <tr>\n",
       "      <th>2018-04-01 07:24:08+05:00</th>\n",
       "      <td>188</td>\n",
       "      <td>10.310000</td>\n",
       "    </tr>\n",
       "    <tr>\n",
       "      <th>...</th>\n",
       "      <td>...</td>\n",
       "      <td>...</td>\n",
       "    </tr>\n",
       "    <tr>\n",
       "      <th>2018-07-29 13:26:25+05:00</th>\n",
       "      <td>467</td>\n",
       "      <td>78.720001</td>\n",
       "    </tr>\n",
       "    <tr>\n",
       "      <th>2018-07-30 08:52:24+05:00</th>\n",
       "      <td>467</td>\n",
       "      <td>47.520000</td>\n",
       "    </tr>\n",
       "    <tr>\n",
       "      <th>2018-07-30 16:53:06+05:00</th>\n",
       "      <td>467</td>\n",
       "      <td>125.110001</td>\n",
       "    </tr>\n",
       "    <tr>\n",
       "      <th>2018-07-31 08:40:06+05:00</th>\n",
       "      <td>467</td>\n",
       "      <td>185.113356</td>\n",
       "    </tr>\n",
       "    <tr>\n",
       "      <th>2018-07-31 17:05:06+05:00</th>\n",
       "      <td>467</td>\n",
       "      <td>232.251549</td>\n",
       "    </tr>\n",
       "  </tbody>\n",
       "</table>\n",
       "<p>4745 rows × 2 columns</p>\n",
       "</div>"
      ],
      "text/plain": [
       "                           customer_id   tx_amount\n",
       "tx_datetime                                       \n",
       "2018-04-01 04:31:00+05:00           28   84.230003\n",
       "2018-04-01 17:23:31+05:00          296  120.649994\n",
       "2018-04-01 05:39:28+05:00          188   53.290001\n",
       "2018-04-01 06:57:01+05:00          188   29.950001\n",
       "2018-04-01 07:24:08+05:00          188   10.310000\n",
       "...                                ...         ...\n",
       "2018-07-29 13:26:25+05:00          467   78.720001\n",
       "2018-07-30 08:52:24+05:00          467   47.520000\n",
       "2018-07-30 16:53:06+05:00          467  125.110001\n",
       "2018-07-31 08:40:06+05:00          467  185.113356\n",
       "2018-07-31 17:05:06+05:00          467  232.251549\n",
       "\n",
       "[4745 rows x 2 columns]"
      ]
     },
     "execution_count": 15,
     "metadata": {},
     "output_type": "execute_result"
    }
   ],
   "source": [
    "df_mulvar = df[[\"customer_id\", \"tx_amount\"]] # using both as inputs\n",
    "df_mulvar"
   ]
  },
  {
   "cell_type": "code",
   "execution_count": null,
   "id": "99a416f1",
   "metadata": {},
   "outputs": [],
   "source": [
    "df_mulvar[\"day_type\"] = df[\"day_type\"].shift(-1)\n",
    "df_mulvar[\"transaction_type\"] = df[\"transaction_type\"].shift(-1)\n",
    "df_mulvar = pd.get_dummies(df_mulvar)\n",
    "df_mulvar\n"
   ]
  },
  {
   "cell_type": "code",
   "execution_count": null,
   "id": "d5a9505f",
   "metadata": {
    "scrolled": true
   },
   "outputs": [],
   "source": [
    "1096 + 914 + 151"
   ]
  },
  {
   "cell_type": "code",
   "execution_count": null,
   "id": "9770a914",
   "metadata": {},
   "outputs": [],
   "source": [
    "df_mulvar.shape"
   ]
  },
  {
   "cell_type": "code",
   "execution_count": null,
   "id": "d036b3b5",
   "metadata": {},
   "outputs": [],
   "source": [
    "# 60% of the 2000\n",
    "0.6 * 2000"
   ]
  },
  {
   "cell_type": "code",
   "execution_count": null,
   "id": "520a174a",
   "metadata": {},
   "outputs": [],
   "source": [
    "# 30% of the 2000\n",
    "0.3 * 2000"
   ]
  },
  {
   "cell_type": "code",
   "execution_count": null,
   "id": "6e3b709e",
   "metadata": {},
   "outputs": [],
   "source": [
    "# 10% of the 2000\n",
    "0.1 * 2000"
   ]
  },
  {
   "cell_type": "code",
   "execution_count": null,
   "id": "74fe0f81",
   "metadata": {},
   "outputs": [],
   "source": [
    "# split the dataset in 70%, 30%, 30% to train, valid, and test set repectively\n",
    "\n",
    "mulvar_train = df_mulvar[\"96256\":\"1007875248\"]\n",
    "mulvar_valid = df_mulvar[\"1010586936\":\"1507568833\"]\n",
    "mulvar_test = df_mulvar[\"1507726526\":]\n",
    "\n",
    "print(\"mulvar_train.shape:\", mulvar_train.shape)\n",
    "print(\"mulvar_valid.shape:\", mulvar_valid.shape)\n",
    "print(\"mulvar_test.shape:\", mulvar_test.shape)"
   ]
  },
  {
   "cell_type": "code",
   "execution_count": null,
   "id": "f4183de7",
   "metadata": {},
   "outputs": [],
   "source": [
    "mulvar_train"
   ]
  },
  {
   "cell_type": "code",
   "execution_count": null,
   "id": "1cb6dbf0",
   "metadata": {},
   "outputs": [],
   "source": [
    "tf.random.set_seed(42)\n",
    "seq_length = 56\n",
    "\n",
    "train_mulvar_ds = tf.keras.utils.timeseries_dataset_from_array(\n",
    "    mulvar_train.to_numpy(), # use all 8 columns as input\n",
    "    targets = mulvar_train['cust_id'][seq_length:], # forecast only the 'cust_id series'\n",
    "    sequence_length = seq_length,\n",
    "    batch_size=32,\n",
    "    shuffle=True,\n",
    "    seed=42\n",
    ")\n",
    "\n",
    "valid_mulvar_ds = tf.keras.utils.timeseries_dataset_from_array(\n",
    "    mulvar_valid.to_numpy(),\n",
    "    targets = mulvar_valid['cust_id'][seq_length:],\n",
    "    sequence_length = seq_length,\n",
    "    batch_size=32\n",
    ")"
   ]
  },
  {
   "cell_type": "code",
   "execution_count": null,
   "id": "e84dbe3f",
   "metadata": {},
   "outputs": [],
   "source": [
    "train_mulvar_ds"
   ]
  },
  {
   "cell_type": "code",
   "execution_count": null,
   "id": "78039e63",
   "metadata": {},
   "outputs": [],
   "source": [
    "valid_mulvar_ds"
   ]
  },
  {
   "cell_type": "code",
   "execution_count": null,
   "id": "0a9a6fa8",
   "metadata": {},
   "outputs": [],
   "source": [
    "tf.random.set_seed(42)\n",
    "\n"
   ]
  },
  {
   "cell_type": "code",
   "execution_count": null,
   "id": "a06a2448",
   "metadata": {},
   "outputs": [],
   "source": [
    "import joblib"
   ]
  },
  {
   "cell_type": "code",
   "execution_count": null,
   "id": "e001e069",
   "metadata": {},
   "outputs": [],
   "source": [
    "def fit_and_evaluate(train_set, valid_set, learning_rate, epochs):\n",
    "    try:\n",
    "        model = joblib.load(\"bj_model.pkl\")\n",
    "        print(\"Model has been loaded\")\n",
    "                    \n",
    "    except:\n",
    "        try:\n",
    "            tf.random.set_seed(42)\n",
    "            \n",
    "            model = tf.keras.Sequential([\n",
    "                tf.keras.layers.SimpleRNN(32, input_shape=[None, 8]),\n",
    "                tf.keras.layers.Dense(1)\n",
    "            ])\n",
    "            \n",
    "            early_stopping_cb = tf.keras.callbacks.EarlyStopping(\n",
    "                monitor = \"val_mae\", patience=50,\n",
    "                restore_best_weights=True)\n",
    "            \n",
    "            opt = tf.keras.optimizers.SGD(learning_rate=0.05,\n",
    "                                      momentum=0.9)\n",
    "            \n",
    "            model.compile(loss=tf.keras.losses.Huber(),\n",
    "                                 optimizer=opt,metrics=[\"mae\"])\n",
    "    \n",
    "            history = model.fit(train_mulvar_ds,\n",
    "                                       validation_data=valid_mulvar_ds,\n",
    "                                       epochs=epochs,\n",
    "                                       callbacks=[early_stopping_cb])\n",
    "\n",
    "        except:\n",
    "            model = None\n",
    "            print(\"Model is None\")\n",
    "            \n",
    "        try:\n",
    "            if model != None:\n",
    "                joblib.dump(model, \"bj_model.pkl\")\n",
    "                print(\"Model has been saved to disk\")\n",
    "                \n",
    "            else:\n",
    "                print(\"Unable to save model to disk\")\n",
    "                \n",
    "        except:\n",
    "            print(\"Error in model training\")\n",
    "            \n",
    "    return model"
   ]
  },
  {
   "cell_type": "code",
   "execution_count": null,
   "id": "8596f5bb",
   "metadata": {},
   "outputs": [],
   "source": [
    "model = fit_and_evaluate(train_mulvar_ds, valid_mulvar_ds,\n",
    "                 learning_rate= 0.05, epochs=10)"
   ]
  },
  {
   "cell_type": "code",
   "execution_count": null,
   "id": "6b9323c4",
   "metadata": {},
   "outputs": [],
   "source": [
    "valid_loss, valid_mae = model.evaluate(valid_mulvar_ds)\n",
    "print(valid_loss)\n",
    "print(valid_mae)\n",
    "           \n"
   ]
  },
  {
   "cell_type": "code",
   "execution_count": null,
   "id": "122b13e3",
   "metadata": {},
   "outputs": [],
   "source": [
    "test_mulvar_ds = tf.keras.utils.timeseries_dataset_from_array(\n",
    "    mulvar_test.to_numpy(),\n",
    "    targets = mulvar_test['cust_id'][seq_length:],\n",
    "    sequence_length=seq_length,\n",
    ")"
   ]
  },
  {
   "cell_type": "code",
   "execution_count": null,
   "id": "3d55c497",
   "metadata": {},
   "outputs": [],
   "source": [
    "test_mulvar_ds"
   ]
  },
  {
   "cell_type": "code",
   "execution_count": null,
   "id": "c54556fd",
   "metadata": {},
   "outputs": [],
   "source": [
    "forecast = model.predict(test_mulvar_ds)"
   ]
  },
  {
   "cell_type": "code",
   "execution_count": null,
   "id": "103041e6",
   "metadata": {},
   "outputs": [],
   "source": [
    "forecast"
   ]
  },
  {
   "cell_type": "code",
   "execution_count": null,
   "id": "fd4792a4",
   "metadata": {},
   "outputs": [],
   "source": []
  },
  {
   "cell_type": "code",
   "execution_count": null,
   "id": "c5f7bce6",
   "metadata": {},
   "outputs": [],
   "source": []
  }
 ],
 "metadata": {
  "kernelspec": {
   "display_name": "Python 3 (ipykernel)",
   "language": "python",
   "name": "python3"
  },
  "language_info": {
   "codemirror_mode": {
    "name": "ipython",
    "version": 3
   },
   "file_extension": ".py",
   "mimetype": "text/x-python",
   "name": "python",
   "nbconvert_exporter": "python",
   "pygments_lexer": "ipython3",
   "version": "3.10.7"
  }
 },
 "nbformat": 4,
 "nbformat_minor": 5
}
