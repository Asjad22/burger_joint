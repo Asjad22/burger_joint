{
 "cells": [
  {
   "cell_type": "markdown",
   "id": "5917bae5",
   "metadata": {},
   "source": [
    "### WARNING:\n",
    "#### This notebook could be very slow without a GPU.\n",
    "##### Note: I've used Nvidia GeForce 1050 ti 4gb."
   ]
  },
  {
   "cell_type": "code",
   "execution_count": 1,
   "id": "d3b9a565",
   "metadata": {},
   "outputs": [],
   "source": [
    "import sys\n",
    "\n",
    "assert sys.version_info >= (3, 7)"
   ]
  },
  {
   "cell_type": "code",
   "execution_count": 2,
   "id": "4fe77bcd",
   "metadata": {},
   "outputs": [],
   "source": [
    "import tensorflow as tf\n",
    "\n",
    "assert tf.__version__ >= \"2.8.0\""
   ]
  },
  {
   "cell_type": "code",
   "execution_count": 3,
   "id": "c27f21c1",
   "metadata": {},
   "outputs": [],
   "source": [
    "import pandas as pd\n",
    "import numpy as np\n",
    "\n",
    "np.random.seed(42)"
   ]
  },
  {
   "cell_type": "code",
   "execution_count": 4,
   "id": "81b4c104",
   "metadata": {},
   "outputs": [],
   "source": [
    "from pathlib import Path\n",
    "\n",
    "IMAGES_PATH = Path() / \"images\" / \"rnn\"\n",
    "IMAGES_PATH.mkdir(parents=True, exist_ok=True)\n",
    "\n",
    "def save_fig(fig_id, tight_layout=True, fig_extension=\"png\", resolution=300):\n",
    "    path = IMAGES_PATH / f\"{fig_id}.{fig_extension}\"\n",
    "    if tight_layout:\n",
    "        plt.tight_layout()\n",
    "    plt.savefig(path, format=fig_extension, dpi=resolution)"
   ]
  },
  {
   "cell_type": "code",
   "execution_count": 5,
   "id": "06a6b04e",
   "metadata": {},
   "outputs": [],
   "source": [
    "import matplotlib.pyplot as plt\n",
    "\n",
    "plt.rc('font', size=14)\n",
    "plt.rc('axes', labelsize=14, titlesize=14)\n",
    "plt.rc('legend', fontsize=14)\n",
    "plt.rc('xtick', labelsize=10)\n",
    "plt.rc('ytick', labelsize=10)"
   ]
  },
  {
   "cell_type": "code",
   "execution_count": 6,
   "id": "6471781b",
   "metadata": {},
   "outputs": [
    {
     "name": "stderr",
     "output_type": "stream",
     "text": [
      "2022-09-08 22:20:27.124116: I tensorflow/stream_executor/cuda/cuda_gpu_executor.cc:975] successful NUMA node read from SysFS had negative value (-1), but there must be at least one NUMA node, so returning NUMA node zero\n",
      "2022-09-08 22:20:27.160461: I tensorflow/stream_executor/cuda/cuda_gpu_executor.cc:975] successful NUMA node read from SysFS had negative value (-1), but there must be at least one NUMA node, so returning NUMA node zero\n",
      "2022-09-08 22:20:27.160704: I tensorflow/stream_executor/cuda/cuda_gpu_executor.cc:975] successful NUMA node read from SysFS had negative value (-1), but there must be at least one NUMA node, so returning NUMA node zero\n"
     ]
    }
   ],
   "source": [
    "if not tf.config.list_physical_devices('GPU'):\n",
    "    print(\"No GPU was detected. Neural nets can be very slow without a GPU.\")\n",
    "    if \"google.colab\" in sys.modules:\n",
    "        print(\"Go to Runtime > Change runtime and select a GPU hardware \"\n",
    "              \"accelerator.\")\n",
    "    if \"kaggle_secrets\" in sys.modules:\n",
    "        print(\"Go to Settings > Accelerator and select GPU.\")"
   ]
  },
  {
   "cell_type": "code",
   "execution_count": 7,
   "id": "d4dbb744",
   "metadata": {},
   "outputs": [],
   "source": [
    "from tensorflow.data.experimental import save as tf_save\n",
    "\n",
    "dataset_dir = \"/data/asjad/Project/venv/venv/Housing_price/burger_joint/dataset/2000_obs.csv\""
   ]
  },
  {
   "cell_type": "code",
   "execution_count": 8,
   "id": "7fa2b937",
   "metadata": {},
   "outputs": [
    {
     "name": "stdout",
     "output_type": "stream",
     "text": [
      "Dataset has been loaded\n"
     ]
    }
   ],
   "source": [
    "try:\n",
    "    df = pd.read_csv(dataset_dir,\n",
    "                         parse_dates=[\"transaction_date_time\"])\n",
    "    df = df.drop(\"credit_card_number\", axis=1) # no need for credit_card_number\n",
    "    df = df.set_index(\"transaction_date_time\")\n",
    "    print(\"Dataset has been loaded\")\n",
    "    \n",
    "except:\n",
    "    print('Unable to load dataset')"
   ]
  },
  {
   "cell_type": "code",
   "execution_count": 9,
   "id": "2441cdd9",
   "metadata": {},
   "outputs": [
    {
     "data": {
      "text/html": [
       "<div>\n",
       "<style scoped>\n",
       "    .dataframe tbody tr th:only-of-type {\n",
       "        vertical-align: middle;\n",
       "    }\n",
       "\n",
       "    .dataframe tbody tr th {\n",
       "        vertical-align: top;\n",
       "    }\n",
       "\n",
       "    .dataframe thead th {\n",
       "        text-align: right;\n",
       "    }\n",
       "</style>\n",
       "<table border=\"1\" class=\"dataframe\">\n",
       "  <thead>\n",
       "    <tr style=\"text-align: right;\">\n",
       "      <th></th>\n",
       "      <th>cust_id</th>\n",
       "      <th>transaction_amount</th>\n",
       "      <th>transaction_type</th>\n",
       "      <th>day_type</th>\n",
       "    </tr>\n",
       "    <tr>\n",
       "      <th>transaction_date_time</th>\n",
       "      <th></th>\n",
       "      <th></th>\n",
       "      <th></th>\n",
       "      <th></th>\n",
       "    </tr>\n",
       "  </thead>\n",
       "  <tbody>\n",
       "    <tr>\n",
       "      <th>96256</th>\n",
       "      <td>5455</td>\n",
       "      <td>7327</td>\n",
       "      <td>c</td>\n",
       "      <td>w</td>\n",
       "    </tr>\n",
       "    <tr>\n",
       "      <th>785459</th>\n",
       "      <td>7208</td>\n",
       "      <td>6986</td>\n",
       "      <td>a</td>\n",
       "      <td>s</td>\n",
       "    </tr>\n",
       "    <tr>\n",
       "      <th>1615429</th>\n",
       "      <td>9627</td>\n",
       "      <td>6405</td>\n",
       "      <td>a</td>\n",
       "      <td>w</td>\n",
       "    </tr>\n",
       "    <tr>\n",
       "      <th>2664541</th>\n",
       "      <td>9739</td>\n",
       "      <td>1114</td>\n",
       "      <td>d</td>\n",
       "      <td>s</td>\n",
       "    </tr>\n",
       "    <tr>\n",
       "      <th>2784743</th>\n",
       "      <td>6778</td>\n",
       "      <td>714</td>\n",
       "      <td>c</td>\n",
       "      <td>s</td>\n",
       "    </tr>\n",
       "    <tr>\n",
       "      <th>...</th>\n",
       "      <td>...</td>\n",
       "      <td>...</td>\n",
       "      <td>...</td>\n",
       "      <td>...</td>\n",
       "    </tr>\n",
       "    <tr>\n",
       "      <th>1659386968</th>\n",
       "      <td>4546</td>\n",
       "      <td>5925</td>\n",
       "      <td>b</td>\n",
       "      <td>w</td>\n",
       "    </tr>\n",
       "    <tr>\n",
       "      <th>1659961410</th>\n",
       "      <td>9909</td>\n",
       "      <td>1192</td>\n",
       "      <td>d</td>\n",
       "      <td>s</td>\n",
       "    </tr>\n",
       "    <tr>\n",
       "      <th>1660332534</th>\n",
       "      <td>666</td>\n",
       "      <td>1994</td>\n",
       "      <td>c</td>\n",
       "      <td>s</td>\n",
       "    </tr>\n",
       "    <tr>\n",
       "      <th>1661231007</th>\n",
       "      <td>9177</td>\n",
       "      <td>3169</td>\n",
       "      <td>c</td>\n",
       "      <td>w</td>\n",
       "    </tr>\n",
       "    <tr>\n",
       "      <th>1661580095</th>\n",
       "      <td>7117</td>\n",
       "      <td>8997</td>\n",
       "      <td>a</td>\n",
       "      <td>w</td>\n",
       "    </tr>\n",
       "  </tbody>\n",
       "</table>\n",
       "<p>2000 rows × 4 columns</p>\n",
       "</div>"
      ],
      "text/plain": [
       "                       cust_id  transaction_amount transaction_type day_type\n",
       "transaction_date_time                                                       \n",
       "96256                     5455                7327                c        w\n",
       "785459                    7208                6986                a        s\n",
       "1615429                   9627                6405                a        w\n",
       "2664541                   9739                1114                d        s\n",
       "2784743                   6778                 714                c        s\n",
       "...                        ...                 ...              ...      ...\n",
       "1659386968                4546                5925                b        w\n",
       "1659961410                9909                1192                d        s\n",
       "1660332534                 666                1994                c        s\n",
       "1661231007                9177                3169                c        w\n",
       "1661580095                7117                8997                a        w\n",
       "\n",
       "[2000 rows x 4 columns]"
      ]
     },
     "execution_count": 9,
     "metadata": {},
     "output_type": "execute_result"
    }
   ],
   "source": [
    "df"
   ]
  },
  {
   "cell_type": "code",
   "execution_count": 10,
   "id": "88446fca",
   "metadata": {},
   "outputs": [
    {
     "data": {
      "text/plain": [
       "a    528\n",
       "c    507\n",
       "d    496\n",
       "b    469\n",
       "Name: transaction_type, dtype: int64"
      ]
     },
     "execution_count": 10,
     "metadata": {},
     "output_type": "execute_result"
    }
   ],
   "source": [
    "df['transaction_type'].value_counts()"
   ]
  },
  {
   "cell_type": "markdown",
   "id": "59bc5fad",
   "metadata": {},
   "source": [
    "#### Assuming 4 different transactions type:\n",
    "\n",
    "#### a = food,\n",
    "\n",
    "#### b = pharm,\n",
    "\n",
    "#### c = fuel \n",
    "\n",
    "#### d = others."
   ]
  },
  {
   "cell_type": "code",
   "execution_count": 11,
   "id": "6ae2ce71",
   "metadata": {},
   "outputs": [
    {
     "data": {
      "text/plain": [
       "w    1004\n",
       "s     996\n",
       "Name: day_type, dtype: int64"
      ]
     },
     "execution_count": 11,
     "metadata": {},
     "output_type": "execute_result"
    }
   ],
   "source": [
    "df['day_type'].value_counts()"
   ]
  },
  {
   "cell_type": "markdown",
   "id": "47672997",
   "metadata": {},
   "source": [
    "#### Assuming two day types:\n",
    "\n",
    "#### w = weekdays\n",
    "\n",
    "#### s = weekend"
   ]
  },
  {
   "cell_type": "code",
   "execution_count": 12,
   "id": "79e4a383",
   "metadata": {},
   "outputs": [
    {
     "data": {
      "text/plain": [
       "(2000, 4)"
      ]
     },
     "execution_count": 12,
     "metadata": {},
     "output_type": "execute_result"
    }
   ],
   "source": [
    "df.shape"
   ]
  },
  {
   "cell_type": "code",
   "execution_count": 13,
   "id": "a6b64895",
   "metadata": {},
   "outputs": [
    {
     "data": {
      "text/html": [
       "<div>\n",
       "<style scoped>\n",
       "    .dataframe tbody tr th:only-of-type {\n",
       "        vertical-align: middle;\n",
       "    }\n",
       "\n",
       "    .dataframe tbody tr th {\n",
       "        vertical-align: top;\n",
       "    }\n",
       "\n",
       "    .dataframe thead th {\n",
       "        text-align: right;\n",
       "    }\n",
       "</style>\n",
       "<table border=\"1\" class=\"dataframe\">\n",
       "  <thead>\n",
       "    <tr style=\"text-align: right;\">\n",
       "      <th></th>\n",
       "      <th>cust_id</th>\n",
       "      <th>transaction_amount</th>\n",
       "    </tr>\n",
       "  </thead>\n",
       "  <tbody>\n",
       "    <tr>\n",
       "      <th>count</th>\n",
       "      <td>2000.000000</td>\n",
       "      <td>2000.000000</td>\n",
       "    </tr>\n",
       "    <tr>\n",
       "      <th>mean</th>\n",
       "      <td>5302.983000</td>\n",
       "      <td>4991.493000</td>\n",
       "    </tr>\n",
       "    <tr>\n",
       "      <th>std</th>\n",
       "      <td>2740.037284</td>\n",
       "      <td>2892.753406</td>\n",
       "    </tr>\n",
       "    <tr>\n",
       "      <th>min</th>\n",
       "      <td>507.000000</td>\n",
       "      <td>101.000000</td>\n",
       "    </tr>\n",
       "    <tr>\n",
       "      <th>25%</th>\n",
       "      <td>2946.000000</td>\n",
       "      <td>2404.750000</td>\n",
       "    </tr>\n",
       "    <tr>\n",
       "      <th>50%</th>\n",
       "      <td>5259.000000</td>\n",
       "      <td>4882.500000</td>\n",
       "    </tr>\n",
       "    <tr>\n",
       "      <th>75%</th>\n",
       "      <td>7683.250000</td>\n",
       "      <td>7550.750000</td>\n",
       "    </tr>\n",
       "    <tr>\n",
       "      <th>max</th>\n",
       "      <td>9995.000000</td>\n",
       "      <td>9992.000000</td>\n",
       "    </tr>\n",
       "  </tbody>\n",
       "</table>\n",
       "</div>"
      ],
      "text/plain": [
       "           cust_id  transaction_amount\n",
       "count  2000.000000         2000.000000\n",
       "mean   5302.983000         4991.493000\n",
       "std    2740.037284         2892.753406\n",
       "min     507.000000          101.000000\n",
       "25%    2946.000000         2404.750000\n",
       "50%    5259.000000         4882.500000\n",
       "75%    7683.250000         7550.750000\n",
       "max    9995.000000         9992.000000"
      ]
     },
     "execution_count": 13,
     "metadata": {},
     "output_type": "execute_result"
    }
   ],
   "source": [
    "df.describe()"
   ]
  },
  {
   "cell_type": "markdown",
   "id": "916e9ff2",
   "metadata": {},
   "source": [
    "101 is the lowest spending and 9992 is the highest spending\n"
   ]
  },
  {
   "cell_type": "code",
   "execution_count": 14,
   "id": "8f472e3f",
   "metadata": {},
   "outputs": [
    {
     "data": {
      "text/plain": [
       "<AxesSubplot:xlabel='transaction_type'>"
      ]
     },
     "execution_count": 14,
     "metadata": {},
     "output_type": "execute_result"
    },
    {
     "data": {
      "image/png": "[encoded data removed]",
      "text/plain": [
       "<Figure size 432x288 with 1 Axes>"
      ]
     },
     "metadata": {
      "needs_background": "light"
     },
     "output_type": "display_data"
    }
   ],
   "source": [
    "import matplotlib.pyplot as plt\n",
    "\n",
    "df.plot(kind=\"line\", x=\"transaction_type\", y=\"cust_id\", alpha=0.8)"
   ]
  },
  {
   "cell_type": "code",
   "execution_count": 15,
   "id": "4285a8fa",
   "metadata": {},
   "outputs": [
    {
     "name": "stdout",
     "output_type": "stream",
     "text": [
      "lowest transaction_amount date_time: 1972-03-29 23:17:45\n",
      "highest transaction_amount date_time: 2002-09-02 19:38:48\n"
     ]
    }
   ],
   "source": [
    "from datetime import datetime\n",
    "print(\"lowest transaction_amount date_time:\", datetime.fromtimestamp(70741065))\n",
    "print(\"highest transaction_amount date_time:\", datetime.fromtimestamp(1030973928))"
   ]
  },
  {
   "cell_type": "markdown",
   "id": "30813d4e",
   "metadata": {},
   "source": [
    "let's see the trend from the begining to the last obs we have"
   ]
  },
  {
   "cell_type": "code",
   "execution_count": 16,
   "id": "3ef573e0",
   "metadata": {},
   "outputs": [
    {
     "data": {
      "image/png": "[encoded data removed]",
      "text/plain": [
       "<Figure size 576x252 with 1 Axes>"
      ]
     },
     "metadata": {
      "needs_background": "light"
     },
     "output_type": "display_data"
    }
   ],
   "source": [
    "df['96256':'1661580095'].plot(grid=True, marker=',', figsize=(8, 3.5), alpha=0.8)\n",
    "plt.show()"
   ]
  },
  {
   "cell_type": "markdown",
   "id": "5194db20",
   "metadata": {},
   "source": [
    "let's check if after 1972-03-29 23:17:45 any low amount transaction occured till the end 2022-08-27 11:01:35\n"
   ]
  },
  {
   "cell_type": "code",
   "execution_count": 17,
   "id": "ff626069",
   "metadata": {},
   "outputs": [
    {
     "data": {
      "image/png": "[encoded data removed]",
      "text/plain": [
       "<Figure size 576x252 with 1 Axes>"
      ]
     },
     "metadata": {
      "needs_background": "light"
     },
     "output_type": "display_data"
    }
   ],
   "source": [
    "df['70741065':'1661580095'].plot(grid=True, marker=',', figsize=(8, 3.5),\n",
    "                                  alpha=0.8)\n",
    "plt.show()"
   ]
  },
  {
   "cell_type": "markdown",
   "id": "04322ca6",
   "metadata": {},
   "source": [
    "#### There's no such events that shows the transaction amount decreased below 101, after 1972-03-29 23:17:45 till 2022-08-27 11:01:35\n"
   ]
  },
  {
   "cell_type": "code",
   "execution_count": 18,
   "id": "8f9d4c0f",
   "metadata": {},
   "outputs": [
    {
     "name": "stdout",
     "output_type": "stream",
     "text": [
      "2022-08-27 11:01:35\n"
     ]
    }
   ],
   "source": [
    "#print(datetime.fromtimestamp(1260738756))\n",
    "#print(datetime.fromtimestamp(1048305858))\n",
    "print(datetime.fromtimestamp(1661580095))"
   ]
  },
  {
   "cell_type": "markdown",
   "id": "45158329",
   "metadata": {},
   "source": [
    "#### Hence: The minimum transaction amount is 101, held on 1972-03-29 23:17:45 by cust_id: 9042"
   ]
  },
  {
   "cell_type": "markdown",
   "id": "ccd3a36a",
   "metadata": {},
   "source": [
    "#### And the maximum transaction amount is 4998, held on 2002-09-02 19:38:48. by cust_id: 8646"
   ]
  },
  {
   "cell_type": "code",
   "execution_count": 19,
   "id": "a5190636",
   "metadata": {},
   "outputs": [
    {
     "data": {
      "text/plain": [
       "['w']"
      ]
     },
     "execution_count": 19,
     "metadata": {},
     "output_type": "execute_result"
    }
   ],
   "source": [
    "# Checking the daytype on which minimum transactions occured\n",
    "\n",
    "list(df.loc[\"70741065\"][\"day_type\"])"
   ]
  },
  {
   "cell_type": "code",
   "execution_count": 20,
   "id": "d9b17656",
   "metadata": {
    "scrolled": true
   },
   "outputs": [
    {
     "data": {
      "text/plain": [
       "['w']"
      ]
     },
     "execution_count": 20,
     "metadata": {},
     "output_type": "execute_result"
    }
   ],
   "source": [
    "# Checking the daytype on which maximum transactions occured\n",
    "\n",
    "list(df.loc[\"1661580095\"][\"day_type\"])"
   ]
  },
  {
   "cell_type": "markdown",
   "id": "7deb3ed1",
   "metadata": {},
   "source": [
    "####  'w' describe the weekday(mon-fri), day_type, therefore we can say that both the lowest and the highest transactions occured on weekend!!"
   ]
  },
  {
   "cell_type": "code",
   "execution_count": 21,
   "id": "ea4c35b7",
   "metadata": {},
   "outputs": [
    {
     "data": {
      "text/html": [
       "<div>\n",
       "<style scoped>\n",
       "    .dataframe tbody tr th:only-of-type {\n",
       "        vertical-align: middle;\n",
       "    }\n",
       "\n",
       "    .dataframe tbody tr th {\n",
       "        vertical-align: top;\n",
       "    }\n",
       "\n",
       "    .dataframe thead th {\n",
       "        text-align: right;\n",
       "    }\n",
       "</style>\n",
       "<table border=\"1\" class=\"dataframe\">\n",
       "  <thead>\n",
       "    <tr style=\"text-align: right;\">\n",
       "      <th></th>\n",
       "      <th>cust_id</th>\n",
       "      <th>transaction_amount</th>\n",
       "    </tr>\n",
       "    <tr>\n",
       "      <th>transaction_date_time</th>\n",
       "      <th></th>\n",
       "      <th></th>\n",
       "    </tr>\n",
       "  </thead>\n",
       "  <tbody>\n",
       "    <tr>\n",
       "      <th>96256</th>\n",
       "      <td>5455</td>\n",
       "      <td>7327</td>\n",
       "    </tr>\n",
       "    <tr>\n",
       "      <th>785459</th>\n",
       "      <td>7208</td>\n",
       "      <td>6986</td>\n",
       "    </tr>\n",
       "    <tr>\n",
       "      <th>1615429</th>\n",
       "      <td>9627</td>\n",
       "      <td>6405</td>\n",
       "    </tr>\n",
       "    <tr>\n",
       "      <th>2664541</th>\n",
       "      <td>9739</td>\n",
       "      <td>1114</td>\n",
       "    </tr>\n",
       "    <tr>\n",
       "      <th>2784743</th>\n",
       "      <td>6778</td>\n",
       "      <td>714</td>\n",
       "    </tr>\n",
       "    <tr>\n",
       "      <th>...</th>\n",
       "      <td>...</td>\n",
       "      <td>...</td>\n",
       "    </tr>\n",
       "    <tr>\n",
       "      <th>1659386968</th>\n",
       "      <td>4546</td>\n",
       "      <td>5925</td>\n",
       "    </tr>\n",
       "    <tr>\n",
       "      <th>1659961410</th>\n",
       "      <td>9909</td>\n",
       "      <td>1192</td>\n",
       "    </tr>\n",
       "    <tr>\n",
       "      <th>1660332534</th>\n",
       "      <td>666</td>\n",
       "      <td>1994</td>\n",
       "    </tr>\n",
       "    <tr>\n",
       "      <th>1661231007</th>\n",
       "      <td>9177</td>\n",
       "      <td>3169</td>\n",
       "    </tr>\n",
       "    <tr>\n",
       "      <th>1661580095</th>\n",
       "      <td>7117</td>\n",
       "      <td>8997</td>\n",
       "    </tr>\n",
       "  </tbody>\n",
       "</table>\n",
       "<p>2000 rows × 2 columns</p>\n",
       "</div>"
      ],
      "text/plain": [
       "                       cust_id  transaction_amount\n",
       "transaction_date_time                             \n",
       "96256                     5455                7327\n",
       "785459                    7208                6986\n",
       "1615429                   9627                6405\n",
       "2664541                   9739                1114\n",
       "2784743                   6778                 714\n",
       "...                        ...                 ...\n",
       "1659386968                4546                5925\n",
       "1659961410                9909                1192\n",
       "1660332534                 666                1994\n",
       "1661231007                9177                3169\n",
       "1661580095                7117                8997\n",
       "\n",
       "[2000 rows x 2 columns]"
      ]
     },
     "execution_count": 21,
     "metadata": {},
     "output_type": "execute_result"
    }
   ],
   "source": [
    "df_mulvar = df[[\"cust_id\", \"transaction_amount\"]] # using both as inputs\n",
    "df_mulvar"
   ]
  },
  {
   "cell_type": "code",
   "execution_count": 22,
   "id": "99a416f1",
   "metadata": {},
   "outputs": [
    {
     "name": "stderr",
     "output_type": "stream",
     "text": [
      "/tmp/ipykernel_21337/2003346083.py:1: SettingWithCopyWarning: \n",
      "A value is trying to be set on a copy of a slice from a DataFrame.\n",
      "Try using .loc[row_indexer,col_indexer] = value instead\n",
      "\n",
      "See the caveats in the documentation: https://pandas.pydata.org/pandas-docs/stable/user_guide/indexing.html#returning-a-view-versus-a-copy\n",
      "  df_mulvar[\"day_type\"] = df[\"day_type\"].shift(-1)\n"
     ]
    },
    {
     "data": {
      "text/html": [
       "<div>\n",
       "<style scoped>\n",
       "    .dataframe tbody tr th:only-of-type {\n",
       "        vertical-align: middle;\n",
       "    }\n",
       "\n",
       "    .dataframe tbody tr th {\n",
       "        vertical-align: top;\n",
       "    }\n",
       "\n",
       "    .dataframe thead th {\n",
       "        text-align: right;\n",
       "    }\n",
       "</style>\n",
       "<table border=\"1\" class=\"dataframe\">\n",
       "  <thead>\n",
       "    <tr style=\"text-align: right;\">\n",
       "      <th></th>\n",
       "      <th>cust_id</th>\n",
       "      <th>transaction_amount</th>\n",
       "      <th>day_type_s</th>\n",
       "      <th>day_type_w</th>\n",
       "      <th>transaction_type_a</th>\n",
       "      <th>transaction_type_b</th>\n",
       "      <th>transaction_type_c</th>\n",
       "      <th>transaction_type_d</th>\n",
       "    </tr>\n",
       "    <tr>\n",
       "      <th>transaction_date_time</th>\n",
       "      <th></th>\n",
       "      <th></th>\n",
       "      <th></th>\n",
       "      <th></th>\n",
       "      <th></th>\n",
       "      <th></th>\n",
       "      <th></th>\n",
       "      <th></th>\n",
       "    </tr>\n",
       "  </thead>\n",
       "  <tbody>\n",
       "    <tr>\n",
       "      <th>96256</th>\n",
       "      <td>5455</td>\n",
       "      <td>7327</td>\n",
       "      <td>1</td>\n",
       "      <td>0</td>\n",
       "      <td>1</td>\n",
       "      <td>0</td>\n",
       "      <td>0</td>\n",
       "      <td>0</td>\n",
       "    </tr>\n",
       "    <tr>\n",
       "      <th>785459</th>\n",
       "      <td>7208</td>\n",
       "      <td>6986</td>\n",
       "      <td>0</td>\n",
       "      <td>1</td>\n",
       "      <td>1</td>\n",
       "      <td>0</td>\n",
       "      <td>0</td>\n",
       "      <td>0</td>\n",
       "    </tr>\n",
       "    <tr>\n",
       "      <th>1615429</th>\n",
       "      <td>9627</td>\n",
       "      <td>6405</td>\n",
       "      <td>1</td>\n",
       "      <td>0</td>\n",
       "      <td>0</td>\n",
       "      <td>0</td>\n",
       "      <td>0</td>\n",
       "      <td>1</td>\n",
       "    </tr>\n",
       "    <tr>\n",
       "      <th>2664541</th>\n",
       "      <td>9739</td>\n",
       "      <td>1114</td>\n",
       "      <td>1</td>\n",
       "      <td>0</td>\n",
       "      <td>0</td>\n",
       "      <td>0</td>\n",
       "      <td>1</td>\n",
       "      <td>0</td>\n",
       "    </tr>\n",
       "    <tr>\n",
       "      <th>2784743</th>\n",
       "      <td>6778</td>\n",
       "      <td>714</td>\n",
       "      <td>0</td>\n",
       "      <td>1</td>\n",
       "      <td>0</td>\n",
       "      <td>0</td>\n",
       "      <td>1</td>\n",
       "      <td>0</td>\n",
       "    </tr>\n",
       "    <tr>\n",
       "      <th>...</th>\n",
       "      <td>...</td>\n",
       "      <td>...</td>\n",
       "      <td>...</td>\n",
       "      <td>...</td>\n",
       "      <td>...</td>\n",
       "      <td>...</td>\n",
       "      <td>...</td>\n",
       "      <td>...</td>\n",
       "    </tr>\n",
       "    <tr>\n",
       "      <th>1659386968</th>\n",
       "      <td>4546</td>\n",
       "      <td>5925</td>\n",
       "      <td>1</td>\n",
       "      <td>0</td>\n",
       "      <td>0</td>\n",
       "      <td>0</td>\n",
       "      <td>0</td>\n",
       "      <td>1</td>\n",
       "    </tr>\n",
       "    <tr>\n",
       "      <th>1659961410</th>\n",
       "      <td>9909</td>\n",
       "      <td>1192</td>\n",
       "      <td>1</td>\n",
       "      <td>0</td>\n",
       "      <td>0</td>\n",
       "      <td>0</td>\n",
       "      <td>1</td>\n",
       "      <td>0</td>\n",
       "    </tr>\n",
       "    <tr>\n",
       "      <th>1660332534</th>\n",
       "      <td>666</td>\n",
       "      <td>1994</td>\n",
       "      <td>0</td>\n",
       "      <td>1</td>\n",
       "      <td>0</td>\n",
       "      <td>0</td>\n",
       "      <td>1</td>\n",
       "      <td>0</td>\n",
       "    </tr>\n",
       "    <tr>\n",
       "      <th>1661231007</th>\n",
       "      <td>9177</td>\n",
       "      <td>3169</td>\n",
       "      <td>0</td>\n",
       "      <td>1</td>\n",
       "      <td>1</td>\n",
       "      <td>0</td>\n",
       "      <td>0</td>\n",
       "      <td>0</td>\n",
       "    </tr>\n",
       "    <tr>\n",
       "      <th>1661580095</th>\n",
       "      <td>7117</td>\n",
       "      <td>8997</td>\n",
       "      <td>0</td>\n",
       "      <td>0</td>\n",
       "      <td>0</td>\n",
       "      <td>0</td>\n",
       "      <td>0</td>\n",
       "      <td>0</td>\n",
       "    </tr>\n",
       "  </tbody>\n",
       "</table>\n",
       "<p>2000 rows × 8 columns</p>\n",
       "</div>"
      ],
      "text/plain": [
       "                       cust_id  transaction_amount  day_type_s  day_type_w  \\\n",
       "transaction_date_time                                                        \n",
       "96256                     5455                7327           1           0   \n",
       "785459                    7208                6986           0           1   \n",
       "1615429                   9627                6405           1           0   \n",
       "2664541                   9739                1114           1           0   \n",
       "2784743                   6778                 714           0           1   \n",
       "...                        ...                 ...         ...         ...   \n",
       "1659386968                4546                5925           1           0   \n",
       "1659961410                9909                1192           1           0   \n",
       "1660332534                 666                1994           0           1   \n",
       "1661231007                9177                3169           0           1   \n",
       "1661580095                7117                8997           0           0   \n",
       "\n",
       "                       transaction_type_a  transaction_type_b  \\\n",
       "transaction_date_time                                           \n",
       "96256                                   1                   0   \n",
       "785459                                  1                   0   \n",
       "1615429                                 0                   0   \n",
       "2664541                                 0                   0   \n",
       "2784743                                 0                   0   \n",
       "...                                   ...                 ...   \n",
       "1659386968                              0                   0   \n",
       "1659961410                              0                   0   \n",
       "1660332534                              0                   0   \n",
       "1661231007                              1                   0   \n",
       "1661580095                              0                   0   \n",
       "\n",
       "                       transaction_type_c  transaction_type_d  \n",
       "transaction_date_time                                          \n",
       "96256                                   0                   0  \n",
       "785459                                  0                   0  \n",
       "1615429                                 0                   1  \n",
       "2664541                                 1                   0  \n",
       "2784743                                 1                   0  \n",
       "...                                   ...                 ...  \n",
       "1659386968                              0                   1  \n",
       "1659961410                              1                   0  \n",
       "1660332534                              1                   0  \n",
       "1661231007                              0                   0  \n",
       "1661580095                              0                   0  \n",
       "\n",
       "[2000 rows x 8 columns]"
      ]
     },
     "execution_count": 22,
     "metadata": {},
     "output_type": "execute_result"
    }
   ],
   "source": [
    "df_mulvar[\"day_type\"] = df[\"day_type\"].shift(-1)\n",
    "df_mulvar[\"transaction_type\"] = df[\"transaction_type\"].shift(-1)\n",
    "df_mulvar = pd.get_dummies(df_mulvar)\n",
    "df_mulvar\n"
   ]
  },
  {
   "cell_type": "code",
   "execution_count": 23,
   "id": "d5a9505f",
   "metadata": {
    "scrolled": true
   },
   "outputs": [
    {
     "data": {
      "text/plain": [
       "2161"
      ]
     },
     "execution_count": 23,
     "metadata": {},
     "output_type": "execute_result"
    }
   ],
   "source": [
    "1096 + 914 + 151"
   ]
  },
  {
   "cell_type": "code",
   "execution_count": 24,
   "id": "9770a914",
   "metadata": {},
   "outputs": [
    {
     "data": {
      "text/plain": [
       "(2000, 8)"
      ]
     },
     "execution_count": 24,
     "metadata": {},
     "output_type": "execute_result"
    }
   ],
   "source": [
    "df_mulvar.shape"
   ]
  },
  {
   "cell_type": "code",
   "execution_count": 25,
   "id": "d036b3b5",
   "metadata": {},
   "outputs": [
    {
     "data": {
      "text/plain": [
       "1200.0"
      ]
     },
     "execution_count": 25,
     "metadata": {},
     "output_type": "execute_result"
    }
   ],
   "source": [
    "# 60% of the 2000\n",
    "0.6 * 2000"
   ]
  },
  {
   "cell_type": "code",
   "execution_count": 26,
   "id": "520a174a",
   "metadata": {},
   "outputs": [
    {
     "data": {
      "text/plain": [
       "600.0"
      ]
     },
     "execution_count": 26,
     "metadata": {},
     "output_type": "execute_result"
    }
   ],
   "source": [
    "# 30% of the 2000\n",
    "0.3 * 2000"
   ]
  },
  {
   "cell_type": "code",
   "execution_count": 27,
   "id": "6e3b709e",
   "metadata": {},
   "outputs": [
    {
     "data": {
      "text/plain": [
       "200.0"
      ]
     },
     "execution_count": 27,
     "metadata": {},
     "output_type": "execute_result"
    }
   ],
   "source": [
    "# 10% of the 2000\n",
    "0.1 * 2000"
   ]
  },
  {
   "cell_type": "code",
   "execution_count": 28,
   "id": "74fe0f81",
   "metadata": {},
   "outputs": [
    {
     "name": "stdout",
     "output_type": "stream",
     "text": [
      "mulvar_train.shape: (1200, 8)\n",
      "mulvar_valid.shape: (600, 8)\n",
      "mulvar_test.shape: (200, 8)\n"
     ]
    }
   ],
   "source": [
    "# split the dataset in 70%, 30%, 30% to train, valid, and test set repectively\n",
    "\n",
    "mulvar_train = df_mulvar[\"96256\":\"1007875248\"]\n",
    "mulvar_valid = df_mulvar[\"1010586936\":\"1507568833\"]\n",
    "mulvar_test = df_mulvar[\"1507726526\":]\n",
    "\n",
    "print(\"mulvar_train.shape:\", mulvar_train.shape)\n",
    "print(\"mulvar_valid.shape:\", mulvar_valid.shape)\n",
    "print(\"mulvar_test.shape:\", mulvar_test.shape)"
   ]
  },
  {
   "cell_type": "code",
   "execution_count": 29,
   "id": "f4183de7",
   "metadata": {},
   "outputs": [
    {
     "data": {
      "text/html": [
       "<div>\n",
       "<style scoped>\n",
       "    .dataframe tbody tr th:only-of-type {\n",
       "        vertical-align: middle;\n",
       "    }\n",
       "\n",
       "    .dataframe tbody tr th {\n",
       "        vertical-align: top;\n",
       "    }\n",
       "\n",
       "    .dataframe thead th {\n",
       "        text-align: right;\n",
       "    }\n",
       "</style>\n",
       "<table border=\"1\" class=\"dataframe\">\n",
       "  <thead>\n",
       "    <tr style=\"text-align: right;\">\n",
       "      <th></th>\n",
       "      <th>cust_id</th>\n",
       "      <th>transaction_amount</th>\n",
       "      <th>day_type_s</th>\n",
       "      <th>day_type_w</th>\n",
       "      <th>transaction_type_a</th>\n",
       "      <th>transaction_type_b</th>\n",
       "      <th>transaction_type_c</th>\n",
       "      <th>transaction_type_d</th>\n",
       "    </tr>\n",
       "    <tr>\n",
       "      <th>transaction_date_time</th>\n",
       "      <th></th>\n",
       "      <th></th>\n",
       "      <th></th>\n",
       "      <th></th>\n",
       "      <th></th>\n",
       "      <th></th>\n",
       "      <th></th>\n",
       "      <th></th>\n",
       "    </tr>\n",
       "  </thead>\n",
       "  <tbody>\n",
       "    <tr>\n",
       "      <th>96256</th>\n",
       "      <td>5455</td>\n",
       "      <td>7327</td>\n",
       "      <td>1</td>\n",
       "      <td>0</td>\n",
       "      <td>1</td>\n",
       "      <td>0</td>\n",
       "      <td>0</td>\n",
       "      <td>0</td>\n",
       "    </tr>\n",
       "    <tr>\n",
       "      <th>785459</th>\n",
       "      <td>7208</td>\n",
       "      <td>6986</td>\n",
       "      <td>0</td>\n",
       "      <td>1</td>\n",
       "      <td>1</td>\n",
       "      <td>0</td>\n",
       "      <td>0</td>\n",
       "      <td>0</td>\n",
       "    </tr>\n",
       "    <tr>\n",
       "      <th>1615429</th>\n",
       "      <td>9627</td>\n",
       "      <td>6405</td>\n",
       "      <td>1</td>\n",
       "      <td>0</td>\n",
       "      <td>0</td>\n",
       "      <td>0</td>\n",
       "      <td>0</td>\n",
       "      <td>1</td>\n",
       "    </tr>\n",
       "    <tr>\n",
       "      <th>2664541</th>\n",
       "      <td>9739</td>\n",
       "      <td>1114</td>\n",
       "      <td>1</td>\n",
       "      <td>0</td>\n",
       "      <td>0</td>\n",
       "      <td>0</td>\n",
       "      <td>1</td>\n",
       "      <td>0</td>\n",
       "    </tr>\n",
       "    <tr>\n",
       "      <th>2784743</th>\n",
       "      <td>6778</td>\n",
       "      <td>714</td>\n",
       "      <td>0</td>\n",
       "      <td>1</td>\n",
       "      <td>0</td>\n",
       "      <td>0</td>\n",
       "      <td>1</td>\n",
       "      <td>0</td>\n",
       "    </tr>\n",
       "    <tr>\n",
       "      <th>...</th>\n",
       "      <td>...</td>\n",
       "      <td>...</td>\n",
       "      <td>...</td>\n",
       "      <td>...</td>\n",
       "      <td>...</td>\n",
       "      <td>...</td>\n",
       "      <td>...</td>\n",
       "      <td>...</td>\n",
       "    </tr>\n",
       "    <tr>\n",
       "      <th>1003797362</th>\n",
       "      <td>7468</td>\n",
       "      <td>269</td>\n",
       "      <td>0</td>\n",
       "      <td>1</td>\n",
       "      <td>0</td>\n",
       "      <td>1</td>\n",
       "      <td>0</td>\n",
       "      <td>0</td>\n",
       "    </tr>\n",
       "    <tr>\n",
       "      <th>1004837584</th>\n",
       "      <td>7457</td>\n",
       "      <td>3563</td>\n",
       "      <td>0</td>\n",
       "      <td>1</td>\n",
       "      <td>1</td>\n",
       "      <td>0</td>\n",
       "      <td>0</td>\n",
       "      <td>0</td>\n",
       "    </tr>\n",
       "    <tr>\n",
       "      <th>1005057889</th>\n",
       "      <td>9266</td>\n",
       "      <td>8350</td>\n",
       "      <td>1</td>\n",
       "      <td>0</td>\n",
       "      <td>1</td>\n",
       "      <td>0</td>\n",
       "      <td>0</td>\n",
       "      <td>0</td>\n",
       "    </tr>\n",
       "    <tr>\n",
       "      <th>1005546746</th>\n",
       "      <td>7529</td>\n",
       "      <td>155</td>\n",
       "      <td>1</td>\n",
       "      <td>0</td>\n",
       "      <td>1</td>\n",
       "      <td>0</td>\n",
       "      <td>0</td>\n",
       "      <td>0</td>\n",
       "    </tr>\n",
       "    <tr>\n",
       "      <th>1007875248</th>\n",
       "      <td>9737</td>\n",
       "      <td>1914</td>\n",
       "      <td>1</td>\n",
       "      <td>0</td>\n",
       "      <td>0</td>\n",
       "      <td>0</td>\n",
       "      <td>1</td>\n",
       "      <td>0</td>\n",
       "    </tr>\n",
       "  </tbody>\n",
       "</table>\n",
       "<p>1200 rows × 8 columns</p>\n",
       "</div>"
      ],
      "text/plain": [
       "                       cust_id  transaction_amount  day_type_s  day_type_w  \\\n",
       "transaction_date_time                                                        \n",
       "96256                     5455                7327           1           0   \n",
       "785459                    7208                6986           0           1   \n",
       "1615429                   9627                6405           1           0   \n",
       "2664541                   9739                1114           1           0   \n",
       "2784743                   6778                 714           0           1   \n",
       "...                        ...                 ...         ...         ...   \n",
       "1003797362                7468                 269           0           1   \n",
       "1004837584                7457                3563           0           1   \n",
       "1005057889                9266                8350           1           0   \n",
       "1005546746                7529                 155           1           0   \n",
       "1007875248                9737                1914           1           0   \n",
       "\n",
       "                       transaction_type_a  transaction_type_b  \\\n",
       "transaction_date_time                                           \n",
       "96256                                   1                   0   \n",
       "785459                                  1                   0   \n",
       "1615429                                 0                   0   \n",
       "2664541                                 0                   0   \n",
       "2784743                                 0                   0   \n",
       "...                                   ...                 ...   \n",
       "1003797362                              0                   1   \n",
       "1004837584                              1                   0   \n",
       "1005057889                              1                   0   \n",
       "1005546746                              1                   0   \n",
       "1007875248                              0                   0   \n",
       "\n",
       "                       transaction_type_c  transaction_type_d  \n",
       "transaction_date_time                                          \n",
       "96256                                   0                   0  \n",
       "785459                                  0                   0  \n",
       "1615429                                 0                   1  \n",
       "2664541                                 1                   0  \n",
       "2784743                                 1                   0  \n",
       "...                                   ...                 ...  \n",
       "1003797362                              0                   0  \n",
       "1004837584                              0                   0  \n",
       "1005057889                              0                   0  \n",
       "1005546746                              0                   0  \n",
       "1007875248                              1                   0  \n",
       "\n",
       "[1200 rows x 8 columns]"
      ]
     },
     "execution_count": 29,
     "metadata": {},
     "output_type": "execute_result"
    }
   ],
   "source": [
    "mulvar_train"
   ]
  },
  {
   "cell_type": "code",
   "execution_count": 30,
   "id": "1cb6dbf0",
   "metadata": {},
   "outputs": [
    {
     "name": "stderr",
     "output_type": "stream",
     "text": [
      "2022-09-08 22:20:31.788466: I tensorflow/stream_executor/cuda/cuda_gpu_executor.cc:975] successful NUMA node read from SysFS had negative value (-1), but there must be at least one NUMA node, so returning NUMA node zero\n",
      "2022-09-08 22:20:31.788990: I tensorflow/stream_executor/cuda/cuda_gpu_executor.cc:975] successful NUMA node read from SysFS had negative value (-1), but there must be at least one NUMA node, so returning NUMA node zero\n",
      "2022-09-08 22:20:31.789388: I tensorflow/stream_executor/cuda/cuda_gpu_executor.cc:975] successful NUMA node read from SysFS had negative value (-1), but there must be at least one NUMA node, so returning NUMA node zero\n",
      "2022-09-08 22:20:32.346044: I tensorflow/stream_executor/cuda/cuda_gpu_executor.cc:975] successful NUMA node read from SysFS had negative value (-1), but there must be at least one NUMA node, so returning NUMA node zero\n",
      "2022-09-08 22:20:32.346280: I tensorflow/stream_executor/cuda/cuda_gpu_executor.cc:975] successful NUMA node read from SysFS had negative value (-1), but there must be at least one NUMA node, so returning NUMA node zero\n",
      "2022-09-08 22:20:32.346456: I tensorflow/stream_executor/cuda/cuda_gpu_executor.cc:975] successful NUMA node read from SysFS had negative value (-1), but there must be at least one NUMA node, so returning NUMA node zero\n",
      "2022-09-08 22:20:32.346605: I tensorflow/core/common_runtime/gpu/gpu_device.cc:1532] Created device /job:localhost/replica:0/task:0/device:GPU:0 with 3150 MB memory:  -> device: 0, name: NVIDIA GeForce GTX 1050 Ti, pci bus id: 0000:01:00.0, compute capability: 6.1\n"
     ]
    }
   ],
   "source": [
    "tf.random.set_seed(42)\n",
    "seq_length = 56\n",
    "\n",
    "train_mulvar_ds = tf.keras.utils.timeseries_dataset_from_array(\n",
    "    mulvar_train.to_numpy(), # use all 8 columns as input\n",
    "    targets = mulvar_train['cust_id'][seq_length:], # forecast only the 'cust_id series'\n",
    "    sequence_length = seq_length,\n",
    "    batch_size=32,\n",
    "    shuffle=True,\n",
    "    seed=42\n",
    ")\n",
    "\n",
    "valid_mulvar_ds = tf.keras.utils.timeseries_dataset_from_array(\n",
    "    mulvar_valid.to_numpy(),\n",
    "    targets = mulvar_valid['cust_id'][seq_length:],\n",
    "    sequence_length = seq_length,\n",
    "    batch_size=32\n",
    ")"
   ]
  },
  {
   "cell_type": "code",
   "execution_count": 31,
   "id": "e84dbe3f",
   "metadata": {},
   "outputs": [
    {
     "data": {
      "text/plain": [
       "<BatchDataset element_spec=(TensorSpec(shape=(None, None, 8), dtype=tf.int64, name=None), TensorSpec(shape=(None,), dtype=tf.int64, name=None))>"
      ]
     },
     "execution_count": 31,
     "metadata": {},
     "output_type": "execute_result"
    }
   ],
   "source": [
    "train_mulvar_ds"
   ]
  },
  {
   "cell_type": "code",
   "execution_count": 32,
   "id": "78039e63",
   "metadata": {},
   "outputs": [
    {
     "data": {
      "text/plain": [
       "<BatchDataset element_spec=(TensorSpec(shape=(None, None, 8), dtype=tf.int64, name=None), TensorSpec(shape=(None,), dtype=tf.int64, name=None))>"
      ]
     },
     "execution_count": 32,
     "metadata": {},
     "output_type": "execute_result"
    }
   ],
   "source": [
    "valid_mulvar_ds"
   ]
  },
  {
   "cell_type": "code",
   "execution_count": 33,
   "id": "0a9a6fa8",
   "metadata": {},
   "outputs": [],
   "source": [
    "tf.random.set_seed(42)\n",
    "\n"
   ]
  },
  {
   "cell_type": "code",
   "execution_count": 34,
   "id": "a06a2448",
   "metadata": {},
   "outputs": [],
   "source": [
    "import joblib"
   ]
  },
  {
   "cell_type": "code",
   "execution_count": 35,
   "id": "e001e069",
   "metadata": {},
   "outputs": [],
   "source": [
    "def fit_and_evaluate(train_set, valid_set, learning_rate, epochs):\n",
    "    try:\n",
    "        model = joblib.load(\"bj_model.pkl\")\n",
    "        print(\"Model has been loaded\")\n",
    "                    \n",
    "    except:\n",
    "        try:\n",
    "            tf.random.set_seed(42)\n",
    "            \n",
    "            model = tf.keras.Sequential([\n",
    "                tf.keras.layers.SimpleRNN(32, input_shape=[None, 8]),\n",
    "                tf.keras.layers.Dense(1)\n",
    "            ])\n",
    "            \n",
    "            early_stopping_cb = tf.keras.callbacks.EarlyStopping(\n",
    "                monitor = \"val_mae\", patience=50,\n",
    "                restore_best_weights=True)\n",
    "            \n",
    "            opt = tf.keras.optimizers.SGD(learning_rate=0.05,\n",
    "                                      momentum=0.9)\n",
    "            \n",
    "            model.compile(loss=tf.keras.losses.Huber(),\n",
    "                                 optimizer=opt,metrics=[\"mae\"])\n",
    "    \n",
    "            history = model.fit(train_mulvar_ds,\n",
    "                                       validation_data=valid_mulvar_ds,\n",
    "                                       epochs=epochs,\n",
    "                                       callbacks=[early_stopping_cb])\n",
    "\n",
    "        except:\n",
    "            model = None\n",
    "            print(\"Model is None\")\n",
    "            \n",
    "        try:\n",
    "            if model != None:\n",
    "                joblib.dump(model, \"bj_model.pkl\")\n",
    "                print(\"Model has been saved to disk\")\n",
    "                \n",
    "            else:\n",
    "                print(\"Unable to save model to disk\")\n",
    "                \n",
    "        except:\n",
    "            print(\"Error in model training\")\n",
    "            \n",
    "    return model"
   ]
  },
  {
   "cell_type": "code",
   "execution_count": 36,
   "id": "8596f5bb",
   "metadata": {},
   "outputs": [
    {
     "name": "stdout",
     "output_type": "stream",
     "text": [
      "Model has been loaded\n"
     ]
    }
   ],
   "source": [
    "model = fit_and_evaluate(train_mulvar_ds, valid_mulvar_ds,\n",
    "                 learning_rate= 0.05, epochs=10)"
   ]
  },
  {
   "cell_type": "code",
   "execution_count": 37,
   "id": "6b9323c4",
   "metadata": {},
   "outputs": [
    {
     "name": "stdout",
     "output_type": "stream",
     "text": [
      "17/17 [==============================] - 1s 13ms/step - loss: 2555.6406 - mae: 2556.1404\n",
      "2555.640625\n",
      "2556.140380859375\n"
     ]
    }
   ],
   "source": [
    "valid_loss, valid_mae = model.evaluate(valid_mulvar_ds)\n",
    "print(valid_loss)\n",
    "print(valid_mae)\n",
    "           \n"
   ]
  },
  {
   "cell_type": "markdown",
   "id": "d9b00eca",
   "metadata": {},
   "source": [
    "import matplotlib.pyplot as plt\n",
    "\n",
    "            # summarize the history for loss\n",
    "\n",
    "            plt.plot(history.history['loss'])\n",
    "            plt.plot(history.history['val_loss'])\n",
    "            plt.title('model loss')\n",
    "            plt.ylabel('loss')\n",
    "            plt.xlabel('epoch')\n",
    "            plt.legend(['train', 'test'], loc='upper left')\n",
    "            plt.show()"
   ]
  },
  {
   "cell_type": "code",
   "execution_count": 38,
   "id": "122b13e3",
   "metadata": {},
   "outputs": [],
   "source": [
    "test_mulvar_ds = tf.keras.utils.timeseries_dataset_from_array(\n",
    "    mulvar_test.to_numpy(),\n",
    "    targets = mulvar_test['cust_id'][seq_length:],\n",
    "    sequence_length=seq_length,\n",
    ")"
   ]
  },
  {
   "cell_type": "code",
   "execution_count": 39,
   "id": "3d55c497",
   "metadata": {},
   "outputs": [
    {
     "data": {
      "text/plain": [
       "<BatchDataset element_spec=(TensorSpec(shape=(None, None, 8), dtype=tf.int64, name=None), TensorSpec(shape=(None,), dtype=tf.int64, name=None))>"
      ]
     },
     "execution_count": 39,
     "metadata": {},
     "output_type": "execute_result"
    }
   ],
   "source": [
    "test_mulvar_ds"
   ]
  },
  {
   "cell_type": "code",
   "execution_count": 40,
   "id": "c54556fd",
   "metadata": {},
   "outputs": [
    {
     "name": "stdout",
     "output_type": "stream",
     "text": [
      "2/2 [==============================] - 0s 11ms/step\n"
     ]
    }
   ],
   "source": [
    "forecast = model.predict(test_mulvar_ds)"
   ]
  },
  {
   "cell_type": "code",
   "execution_count": 41,
   "id": "103041e6",
   "metadata": {},
   "outputs": [
    {
     "data": {
      "text/plain": [
       "array([[3803.5586],\n",
       "       [3803.5586],\n",
       "       [3803.5586],\n",
       "       [3803.5586],\n",
       "       [3803.5586],\n",
       "       [3803.5586],\n",
       "       [3803.5586],\n",
       "       [3803.5586],\n",
       "       [3803.5586],\n",
       "       [3803.5586],\n",
       "       [3803.5586],\n",
       "       [3803.5586],\n",
       "       [3803.5586],\n",
       "       [3803.5586],\n",
       "       [3803.5586],\n",
       "       [3803.5586],\n",
       "       [3803.5586],\n",
       "       [3803.5586],\n",
       "       [3803.5586],\n",
       "       [3803.5586],\n",
       "       [3803.5586],\n",
       "       [3803.5586],\n",
       "       [3803.5586],\n",
       "       [3803.5586],\n",
       "       [3803.5586],\n",
       "       [3803.5586],\n",
       "       [3803.5586],\n",
       "       [3803.5586],\n",
       "       [3803.5586],\n",
       "       [3803.5586],\n",
       "       [3803.5586],\n",
       "       [3803.5586],\n",
       "       [3803.5586],\n",
       "       [3803.5586],\n",
       "       [3803.5586],\n",
       "       [3803.5586],\n",
       "       [3803.5586],\n",
       "       [3803.5586],\n",
       "       [3803.5586],\n",
       "       [3803.5586],\n",
       "       [3803.5586],\n",
       "       [3803.5586],\n",
       "       [3803.5586],\n",
       "       [3803.5586],\n",
       "       [3803.5586],\n",
       "       [3803.5586],\n",
       "       [3803.5586],\n",
       "       [3803.5586],\n",
       "       [3803.5586],\n",
       "       [3803.5586],\n",
       "       [3803.5586],\n",
       "       [3803.5586],\n",
       "       [3803.5586],\n",
       "       [3803.5586],\n",
       "       [3803.5586],\n",
       "       [3803.5586],\n",
       "       [3803.5586],\n",
       "       [3803.5586],\n",
       "       [3803.5586],\n",
       "       [3803.5586],\n",
       "       [3803.5586],\n",
       "       [3803.5586],\n",
       "       [3803.5586],\n",
       "       [3803.5586],\n",
       "       [3803.5586],\n",
       "       [3803.5586],\n",
       "       [3803.5586],\n",
       "       [3803.5586],\n",
       "       [3803.5586],\n",
       "       [3803.5586],\n",
       "       [3803.5586],\n",
       "       [3803.5586],\n",
       "       [3803.5586],\n",
       "       [3803.5586],\n",
       "       [3803.5586],\n",
       "       [3803.5586],\n",
       "       [3803.5586],\n",
       "       [3803.5586],\n",
       "       [3803.5586],\n",
       "       [3803.5586],\n",
       "       [3803.5586],\n",
       "       [3803.5586],\n",
       "       [3803.5586],\n",
       "       [3803.5586],\n",
       "       [3803.5586],\n",
       "       [3803.5586],\n",
       "       [3803.5586],\n",
       "       [3803.5586],\n",
       "       [3803.5586],\n",
       "       [3803.5586],\n",
       "       [3803.5586],\n",
       "       [3803.5586],\n",
       "       [3803.5586],\n",
       "       [3803.5586],\n",
       "       [3803.5586],\n",
       "       [3803.5586],\n",
       "       [3803.5586],\n",
       "       [3803.5586],\n",
       "       [3803.5586],\n",
       "       [3803.5586],\n",
       "       [3803.5586],\n",
       "       [3803.5586],\n",
       "       [3803.5586],\n",
       "       [3803.5586],\n",
       "       [3803.5586],\n",
       "       [3803.5586],\n",
       "       [3803.5586],\n",
       "       [3803.5586],\n",
       "       [3803.5586],\n",
       "       [3803.5586],\n",
       "       [3803.5586],\n",
       "       [3803.5586],\n",
       "       [3803.5586],\n",
       "       [3803.5586],\n",
       "       [3803.5586],\n",
       "       [3803.5586],\n",
       "       [3803.5586],\n",
       "       [3803.5586],\n",
       "       [3803.5586],\n",
       "       [3803.5586],\n",
       "       [3803.5586],\n",
       "       [3803.5586],\n",
       "       [3803.5586],\n",
       "       [3803.5586],\n",
       "       [3803.5586],\n",
       "       [3803.5586],\n",
       "       [3803.5586],\n",
       "       [3803.5586],\n",
       "       [3803.5586],\n",
       "       [3803.5586],\n",
       "       [3803.5586],\n",
       "       [3803.5586],\n",
       "       [3803.5586],\n",
       "       [3803.5586],\n",
       "       [3803.5586],\n",
       "       [3803.5586],\n",
       "       [3803.5586],\n",
       "       [3803.5586],\n",
       "       [3803.5586],\n",
       "       [3803.5586],\n",
       "       [3803.5586],\n",
       "       [3803.5586],\n",
       "       [3803.5586],\n",
       "       [3803.5586]], dtype=float32)"
      ]
     },
     "execution_count": 41,
     "metadata": {},
     "output_type": "execute_result"
    }
   ],
   "source": [
    "forecast"
   ]
  },
  {
   "cell_type": "code",
   "execution_count": 42,
   "id": "dd595a92",
   "metadata": {},
   "outputs": [
    {
     "data": {
      "text/plain": [
       "3803.5586"
      ]
     },
     "execution_count": 42,
     "metadata": {},
     "output_type": "execute_result"
    }
   ],
   "source": [
    "3803.5586"
   ]
  },
  {
   "cell_type": "code",
   "execution_count": null,
   "id": "fd4792a4",
   "metadata": {},
   "outputs": [],
   "source": []
  },
  {
   "cell_type": "code",
   "execution_count": null,
   "id": "c5f7bce6",
   "metadata": {},
   "outputs": [],
   "source": []
  }
 ],
 "metadata": {
  "kernelspec": {
   "display_name": "Python 3 (ipykernel)",
   "language": "python",
   "name": "python3"
  },
  "language_info": {
   "codemirror_mode": {
    "name": "ipython",
    "version": 3
   },
   "file_extension": ".py",
   "mimetype": "text/x-python",
   "name": "python",
   "nbconvert_exporter": "python",
   "pygments_lexer": "ipython3",
   "version": "3.10.6"
  }
 },
 "nbformat": 4,
 "nbformat_minor": 5
}
